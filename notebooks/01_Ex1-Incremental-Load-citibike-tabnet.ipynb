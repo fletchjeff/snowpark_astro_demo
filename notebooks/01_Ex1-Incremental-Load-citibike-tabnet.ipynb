{
 "cells": [
  {
   "cell_type": "markdown",
   "metadata": {},
   "source": [
    "# Incremental Load\n",
    "\n",
    "Exercise:"
   ]
  },
  {
   "cell_type": "markdown",
   "metadata": {},
   "source": [
    "### Incremental Extract, Load and Transform\n",
    "We expect to get new data every month which we will incrementally load."
   ]
  },
  {
   "cell_type": "code",
   "execution_count": null,
   "metadata": {},
   "outputs": [],
   "source": [
    "import snowflake.snowpark as snp\n",
    "import json\n",
    "import getpass\n",
    "\n",
    "\n",
    "with open('creds.json') as f:\n",
    "    data = json.load(f)\n",
    "    connection_parameters = {\n",
    "      'account': data['account'],\n",
    "      'user': data['username'],\n",
    "      'password': data['password'], #getpass.getpass(),\n",
    "      'role': data['role'],\n",
    "      'warehouse': data['warehouse']}\n",
    "\n",
    "session = snp.Session.builder.configs(connection_parameters).create()"
   ]
  },
  {
   "cell_type": "code",
   "execution_count": null,
   "metadata": {},
   "outputs": [],
   "source": [
    "from citibike_ml import elt as ELT\n",
    "\n",
    "import snowflake.snowpark as snp\n",
    "\n",
    "import pandas as pd\n",
    "from datetime import datetime\n",
    "import os\n",
    "import uuid \n",
    "\n",
    "start = datetime.now()\n",
    "print(\"Start Time =\", start.strftime(\"%H:%M:%S\"))\n",
    "\n",
    "download_base_url = 'https://s3.amazonaws.com/tripdata/'\n",
    "\n",
    "project_db_name = 'CITIBIKEML'\n",
    "project_schema_name = 'DEMO'\n",
    "project_db_schema = str(project_db_name)+'.'+str(project_schema_name)\n",
    "\n",
    "load_table_name = str(project_db_schema)+'.'+'RAW_'\n",
    "trips_table_name = str(project_db_schema)+'.'+'TRIPS'\n",
    "\n",
    "_ = session.sql('USE DATABASE '+str(project_db_name)).collect()\n",
    "_ = session.sql('USE SCHEMA '+str(project_db_schema)).collect()\n",
    "\n",
    "load_stage_name = 'load_stage'\n",
    "session.sql('CREATE OR REPLACE TEMPORARY STAGE '+str(load_stage_name)).collect()"
   ]
  },
  {
   "cell_type": "code",
   "execution_count": null,
   "metadata": {},
   "outputs": [],
   "source": [
    "file_name_end2 = '202102-citibike-tripdata.csv.zip'\n",
    "file_name_end1 = '201402-citibike-tripdata.zip'\n",
    "\n",
    "files_to_download = [file_name_end2]"
   ]
  },
  {
   "cell_type": "code",
   "execution_count": null,
   "metadata": {},
   "outputs": [],
   "source": [
    "files_to_download"
   ]
  },
  {
   "cell_type": "code",
   "execution_count": null,
   "metadata": {},
   "outputs": [],
   "source": [
    "%%time\n",
    "load_stage_name, files_to_load = ELT.extract_trips_to_stage(session=session, \n",
    "                                                            files_to_download=files_to_download, \n",
    "                                                            download_base_url=download_base_url, \n",
    "                                                            load_stage_name=load_stage_name)"
   ]
  },
  {
   "cell_type": "code",
   "execution_count": null,
   "metadata": {},
   "outputs": [],
   "source": [
    "%%time\n",
    "stage_table_names = ELT.load_trips_to_raw(session, files_to_load, load_stage_name, load_table_name)"
   ]
  },
  {
   "cell_type": "code",
   "execution_count": null,
   "metadata": {},
   "outputs": [],
   "source": [
    "%%time\n",
    "trips_table_name = ELT.transform_trips(session, stage_table_names, trips_table_name)"
   ]
  },
  {
   "cell_type": "code",
   "execution_count": null,
   "metadata": {},
   "outputs": [],
   "source": [
    "%%writefile citibike_ml/ingest.py\n",
    "\n",
    "def incremental_elt(session, load_stage_name, files_to_download, download_base_url, load_table_name, trips_table_name) -> str:\n",
    "    from citibike_ml import elt as ELT\n",
    "\n",
    "    load_stage_name, files_to_load = ELT.extract_trips_to_stage(session=session, \n",
    "                                                                files_to_download=files_to_download, \n",
    "                                                                download_base_url=download_base_url, \n",
    "                                                                load_stage_name=load_stage_name)\n",
    "    stage_table_names = ELT.load_trips_to_raw(session, \n",
    "                                              files_to_load=files_to_load, \n",
    "                                              load_stage_name=load_stage_name, \n",
    "                                              load_table_name=load_table_name)\n",
    "    \n",
    "    trips_table_name = ELT.transform_trips(session=session, \n",
    "                                           stage_table_names=stage_table_names, \n",
    "                                           trips_table_name=trips_table_name)\n",
    "    return trips_table_name\n",
    "\n"
   ]
  },
  {
   "cell_type": "code",
   "execution_count": null,
   "metadata": {},
   "outputs": [],
   "source": [
    "session.close()"
   ]
  },
  {
   "cell_type": "code",
   "execution_count": null,
   "metadata": {},
   "outputs": [],
   "source": [
    "#TODO: How to avoid duplicates?"
   ]
  },
  {
   "cell_type": "code",
   "execution_count": null,
   "metadata": {},
   "outputs": [],
   "source": []
  }
 ],
 "metadata": {
  "authors": [
   {
    "name": "cforbe"
   }
  ],
  "kernelspec": {
   "display_name": "Python 3 (ipykernel)",
   "language": "python",
   "name": "python3"
  },
  "language_info": {
   "codemirror_mode": {
    "name": "ipython",
    "version": 3
   },
   "file_extension": ".py",
   "mimetype": "text/x-python",
   "name": "python",
   "nbconvert_exporter": "python",
   "pygments_lexer": "ipython3",
   "version": "3.8.11"
  },
  "msauthor": "trbye"
 },
 "nbformat": 4,
 "nbformat_minor": 4
}
