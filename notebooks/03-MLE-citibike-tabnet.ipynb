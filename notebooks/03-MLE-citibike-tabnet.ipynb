{
 "cells": [
  {
   "cell_type": "markdown",
   "metadata": {},
   "source": [
    "# Citibike ML\n",
    "In this example we use the [Citibike dataset](https://ride.citibikenyc.com/system-data). Citibike is a bicycle sharing system in New York City. Everyday users choose from 20,000 bicycles at 1300 stations around New York City.\n",
    "\n",
    "To ensure customer satisfaction Citibike needs to predict how many bicycles will be needed at each station. Maintenance teams from Citibike will check each station and repair or replace bicycles. Additionally, the team will relocate bicycles between stations based on predicted demand. The business needs to be able to run reports of how many bicycles will be needed at a given station on a given day."
   ]
  },
  {
   "cell_type": "markdown",
   "metadata": {},
   "source": [
    "## ML Engineering Development\n",
    "In this section of the demo, we will utilize Snowpark's Python client-side Dataframe API to build an develope code for the **MLops pipeline**.  We will take the functions and model training/inference definition from the data scientist and put it into production using the Snowpark server-side runtime and Snowpark Python user-defined functions for ML model training and inference.\n",
    "\n",
    "The ML Engineer will start by exploring the deoployment options and testing the deployed model before building a pipeline.\n",
    "\n",
    "For this demo flow we will assume that the organization has the following **policies and processes** :   \n",
    "-**Dev Tools**: The ML engineer can develop in their tool of choice (ie. VS Code, IntelliJ, Pycharm, Eclipse, etc.).  Snowpark Python makes it possible to use any environment where they have a python kernel.  For the sake of a demo we will use Jupyter.  \n",
    "-**Data Governance**: To preserve customer privacy no data can be stored locally.  The ingest system may store data temporarily but it must be assumed that, in production, the ingest system will not preserve intermediate data products between runs. Snowpark Python allows the user to push-down all operations to Snowflake and bring the code to the data.   \n",
    "-**Automation**: Although the ML engineer can use any IDE or notebooks for development purposes the final product must be python code at the end of the work stream.  Well-documented, modularized code is necessary for good ML operations and to interface with the company's CI/CD and orchestration tools.  \n",
    "-**Compliance**: Any ML models must be traceable back to the original data set used for training.  The business needs to be able to easily remove specific user data from training datasets and retrain models. "
   ]
  },
  {
   "cell_type": "markdown",
   "metadata": {},
   "source": [
    "Input: Data in `trips` table.  Feature engineering, train, predict functions from data scientist.  \n",
    "Output: Prediction models available to business users in SQL. Evaluation reports for monitoring."
   ]
  },
  {
   "cell_type": "code",
   "execution_count": null,
   "metadata": {},
   "outputs": [],
   "source": [
    "import snowflake.snowpark as snp\n",
    "from snowflake.snowpark import functions as F "
   ]
  },
  {
   "cell_type": "markdown",
   "metadata": {},
   "source": [
    "### 1. Load  credentials and connect to Snowflake"
   ]
  },
  {
   "cell_type": "code",
   "execution_count": null,
   "metadata": {},
   "outputs": [],
   "source": [
    "from datetime import datetime\n",
    "import json\n",
    "import getpass\n",
    "\n",
    "with open('creds.json') as f:\n",
    "    data = json.load(f)\n",
    "    connection_parameters = {\n",
    "      'account': data['account'],\n",
    "      'user': data['username'],\n",
    "      'password': data['password'], #getpass.getpass(),\n",
    "      'role': data['role'],\n",
    "      'warehouse': data['warehouse']}\n",
    "\n",
    "session = snp.Session.builder.configs(connection_parameters).create()"
   ]
  },
  {
   "cell_type": "markdown",
   "metadata": {},
   "source": [
    "### 2.  Create Feature Pipelines\n"
   ]
  },
  {
   "cell_type": "code",
   "execution_count": null,
   "metadata": {},
   "outputs": [],
   "source": [
    "project_db_name = 'CITIBIKEML'\n",
    "project_schema_name = 'DEMO'\n",
    "project_db_schema = str(project_db_name)+'.'+str(project_schema_name)\n",
    "\n",
    "trips_table_name = str(project_db_schema)+'.'+'TRIPS'\n",
    "holiday_table_name = str(project_db_schema)+'.'+'HOLIDAYS'\n",
    "precip_table_name = str(project_db_schema)+'.'+'WEATHER'\n",
    "\n",
    "_ = session.sql('USE DATABASE ' + str(project_db_name)).collect()\n",
    "_ = session.sql('USE SCHEMA ' + str(project_schema_name)).collect()"
   ]
  },
  {
   "cell_type": "markdown",
   "metadata": {},
   "source": [
    "We will materialize the holiday and weather datasets as tables instead of calculating each time in the inference and training pipelines."
   ]
  },
  {
   "cell_type": "code",
   "execution_count": null,
   "metadata": {},
   "outputs": [],
   "source": [
    "from citibike_ml.feature_engineering import generate_holiday_df, generate_precip_df\n",
    "\n",
    "start_date, end_date = session.table(trips_table_name) \\\n",
    "                              .select(F.min('STARTTIME'), F.max('STARTTIME')).collect()[0][0:2]\n",
    "\n",
    "holiday_df = generate_holiday_df(session=session, start_date=start_date, end_date=datetime.now())\n",
    "holiday_df.write.mode('overwrite').saveAsTable(holiday_table_name)\n",
    "\n",
    "precip_df = generate_precip_df(session=session, start_date=start_date, end_date=datetime.now())\n",
    "precip_df.write.mode('overwrite').saveAsTable(precip_table_name)"
   ]
  },
  {
   "cell_type": "markdown",
   "metadata": {},
   "source": [
    "### 3. Create UDF for Training and Inference"
   ]
  },
  {
   "cell_type": "markdown",
   "metadata": {},
   "source": [
    "Since this is a time series prediction we will retrain a model each time we do inference.  We don't need to save the model artefacts but we will save the predictions in an predictions table.  \n",
    "  \n",
    "Here we can use Snowpark User Defined Functions for training as well as inference without having to pull data out of Snowflake."
   ]
  },
  {
   "cell_type": "code",
   "execution_count": null,
   "metadata": {},
   "outputs": [],
   "source": [
    "%%writefile citibike_ml/station_train_predict.py\n",
    "\n",
    "def station_train_predict_func(input_data: list, \n",
    "                               input_columns_str: str, \n",
    "                               target_column: str,\n",
    "                               cutpoint: int, \n",
    "                               max_epochs: int) -> str:\n",
    "    \n",
    "    input_columns = input_columns_str.split(' ')\n",
    "    feature_columns = input_columns.copy()\n",
    "    feature_columns.remove('DATE')\n",
    "    feature_columns.remove(target_column)\n",
    "    \n",
    "    from torch import tensor\n",
    "    import pandas as pd\n",
    "    from pytorch_tabnet.tab_model import TabNetRegressor\n",
    "    \n",
    "    model = TabNetRegressor()\n",
    "\n",
    "    df = pd.DataFrame(input_data, columns = input_columns)\n",
    "    \n",
    "    y_valid = df[target_column][-cutpoint:].values.reshape(-1, 1)\n",
    "    X_valid = df[feature_columns][-cutpoint:].values\n",
    "    y_train = df[target_column][:-cutpoint].values.reshape(-1, 1)\n",
    "    X_train = df[feature_columns][:-cutpoint].values\n",
    "\n",
    "    model.fit(\n",
    "        X_train, y_train,\n",
    "        eval_set=[(X_valid, y_valid)],\n",
    "        max_epochs=max_epochs,\n",
    "        patience=100,\n",
    "        batch_size=1024, \n",
    "        virtual_batch_size=128,\n",
    "        num_workers=0,\n",
    "        drop_last=False)\n",
    "    \n",
    "    \n",
    "    df['PRED'] = model.predict(tensor(df[feature_columns].values))\n",
    "    df = pd.concat([df, pd.DataFrame(model.explain(df[feature_columns].values)[0], \n",
    "                           columns = feature_columns).add_prefix('EXPL_')], axis=1)\n",
    "    return [df.values.tolist(), df.columns.tolist()]"
   ]
  },
  {
   "cell_type": "markdown",
   "metadata": {},
   "source": [
    "The Snowpark server-side Anaconda runtime has a large [list of Python modules included](https://docs.snowflake.com/en/LIMITEDACCESS/udf-python-packages.html#list-of-the-third-party-packages-from-anaconda) for our UDF.  However, the data scientist built this code based on pytorch-tabnet which is not currently in the Snowpark distribution.\n",
    "  \n",
    "  We can simply add [pytorch_tabnet](https://github.com/dreamquark-ai/tabnet), as well as our own teams python code, as import dependencies."
   ]
  },
  {
   "cell_type": "code",
   "execution_count": null,
   "metadata": {},
   "outputs": [],
   "source": [
    "from citibike_ml.station_train_predict import station_train_predict_func\n",
    "import os \n",
    "\n",
    "dep = 'pytorch_tabnet'\n",
    "#source_dir = os.environ['CONDA_PREFIX']+'/lib/python3.8/site-packages/'\n",
    "source_dir = './dependencies/'\n",
    "\n",
    "model_stage_name = str(project_db_schema)+'.'+'model_stage'\n",
    "_ = session.sql('CREATE STAGE IF NOT EXISTS model_stage').collect()\n",
    "\n",
    "session.clearImports()\n",
    "session.addImport(source_dir+dep)\n",
    "session.addImport('citibike_ml')\n",
    "\n",
    "station_train_predict_udf = session.udf.register(station_train_predict_func, \n",
    "                                              name=\"station_train_predict_udf\",\n",
    "                                              is_permanent=True,\n",
    "                                              stage_location='@'+str(model_stage_name), \n",
    "                                              replace=True)"
   ]
  },
  {
   "cell_type": "markdown",
   "metadata": {},
   "source": [
    "### 4. Test the training/inference pipeline and prediction output."
   ]
  },
  {
   "cell_type": "markdown",
   "metadata": {},
   "source": [
    "We will create an array aggregation to feed the training data to our UDF."
   ]
  },
  {
   "cell_type": "code",
   "execution_count": null,
   "metadata": {},
   "outputs": [],
   "source": [
    "%%time\n",
    "\n",
    "from citibike_ml.feature_engineering import generate_features\n",
    "\n",
    "import snowflake.snowpark as snp\n",
    "from snowflake.snowpark import functions as F \n",
    "\n",
    "station_id = '519'\n",
    "trips_table_name = trips_table_name\n",
    "target_column = 'COUNT'\n",
    "\n",
    "snowdf = session.table(trips_table_name).filter(F.col('START_STATION_ID') == station_id)\n",
    "\n",
    "feature_df = generate_features(session=session, \n",
    "                               input_df=snowdf, \n",
    "                               holiday_table_name=holiday_table_name, \n",
    "                               precip_table_name=precip_table_name)\n",
    "\n",
    "input_columns_str = str(' ').join(feature_df.columns).replace('\\\"', \"\")\n",
    "\n",
    "feature_df = feature_df.select(F.array_agg(F.array_construct(F.col('*'))).alias('input_data'), \n",
    "                              F.lit(station_id).alias('station_id'),\n",
    "                              F.lit(input_columns_str).alias('input_column_names'),\n",
    "                              F.lit(target_column).alias('target_column'))\n",
    "\n",
    "cutpoint=365\n",
    "max_epochs = 100\n",
    "\n",
    "output_df = feature_df.select(F.call_udf('station_train_predict_udf', \n",
    "                                       'INPUT_DATA', \n",
    "                                       'INPUT_COLUMN_NAMES', \n",
    "                                       'TARGET_COLUMN', \n",
    "                                       F.lit(cutpoint), \n",
    "                                       F.lit(max_epochs))).collect()"
   ]
  },
  {
   "cell_type": "code",
   "execution_count": null,
   "metadata": {},
   "outputs": [],
   "source": [
    "import pandas as pd\n",
    "import ast\n",
    "df = pd.DataFrame(data = ast.literal_eval(output_df[0][0])[0], \n",
    "                  columns = ast.literal_eval(output_df[0][0])[1])\n",
    "\n",
    "df['DATE'] = pd.to_datetime(df['DATE']).dt.date\n",
    "df.head()"
   ]
  },
  {
   "cell_type": "code",
   "execution_count": null,
   "metadata": {},
   "outputs": [],
   "source": [
    "def plot(df, x_lab:str, y_true_lab:str, y_pred_lab:str):\n",
    "    plt.figure(figsize=(15, 8))\n",
    "    df = pd.melt(df, id_vars=[x_lab], value_vars=[y_true_lab, y_pred_lab])\n",
    "    ax = sns.lineplot(x=x_lab, y='value', hue='variable', data=df)"
   ]
  },
  {
   "cell_type": "code",
   "execution_count": null,
   "metadata": {
    "scrolled": false
   },
   "outputs": [],
   "source": [
    "import matplotlib.pyplot as plt\n",
    "import seaborn as sns\n",
    "   \n",
    "plot(df, 'DATE', 'COUNT', 'PRED')"
   ]
  },
  {
   "cell_type": "markdown",
   "metadata": {},
   "source": [
    "We will end by consolidating the functions we created."
   ]
  },
  {
   "cell_type": "code",
   "execution_count": null,
   "metadata": {},
   "outputs": [],
   "source": [
    "%%writefile citibike_ml/mlops_pipeline.py\n",
    "from typing import Tuple\n",
    "\n",
    "def materialize_holiday_weather(session, trips_table_name, holiday_table_name, precip_table_name) -> Tuple[str, str]:\n",
    "    from citibike_ml.feature_engineering import generate_holiday_df, generate_precip_df\n",
    "    from snowflake.snowpark import functions as F\n",
    "    from datetime import datetime\n",
    "\n",
    "    start_date, end_date = session.table(trips_table_name) \\\n",
    "                                  .select(F.min('STARTTIME'), F.max('STARTTIME')).collect()[0][0:2]\n",
    "\n",
    "    holiday_df = generate_holiday_df(session=session, start_date=start_date, end_date=datetime.now())\n",
    "    holiday_df.write.mode('overwrite').saveAsTable(holiday_table_name)\n",
    "\n",
    "    precip_df = generate_precip_df(session=session, start_date=start_date, end_date=datetime.now())\n",
    "    precip_df.write.mode('overwrite').saveAsTable(precip_table_name)\n",
    "    \n",
    "    return holiday_table_name, precip_table_name\n",
    "\n",
    "\n",
    "def deploy_pred_train_udf(session, function_name, model_stage_name) -> str:\n",
    "    from citibike_ml.station_train_predict import station_train_predict_func\n",
    "\n",
    "    dep = 'pytorch_tabnet'\n",
    "    source_dir = './dependencies/'\n",
    "\n",
    "    session.clearImports()\n",
    "    session.addImport(source_dir+dep)\n",
    "    session.addImport('citibike_ml')\n",
    "\n",
    "    station_train_predict_udf = session.udf.register(station_train_predict_func, \n",
    "                                                  name=\"station_train_predict_udf\",\n",
    "                                                  is_permanent=True,\n",
    "                                                  stage_location='@'+str(model_stage_name), \n",
    "                                                  replace=True)\n",
    "    return station_train_predict_udf.name\n",
    "\n",
    "\n",
    "def generate_feature_views(session, \n",
    "                           clone_table_name, \n",
    "                           feature_view_name, \n",
    "                           holiday_table_name, \n",
    "                           precip_table_name, \n",
    "                           target_column, \n",
    "                           top_n) -> list:\n",
    "    from citibike_ml.feature_engineering import generate_features\n",
    "    from snowflake.snowpark import functions as F\n",
    "\n",
    "    feature_view_names = list()\n",
    "    \n",
    "    top_n_station_ids = session.table(clone_table_name).filter(F.col('START_STATION_ID').is_not_null()) \\\n",
    "                                                       .groupBy('START_STATION_ID') \\\n",
    "                                                       .count() \\\n",
    "                                                       .sort('COUNT', ascending=False) \\\n",
    "                                                       .limit(top_n) \\\n",
    "                                                       .collect()\n",
    "    top_n_station_ids = [stations['START_STATION_ID'] for stations in top_n_station_ids]\n",
    "\n",
    "    for station in top_n_station_ids:\n",
    "        feature_df = generate_features(session=session, \n",
    "                                       input_df=session.table(clone_table_name)\\\n",
    "                                                       .filter(F.col('START_STATION_ID') == station), \n",
    "                                       holiday_table_name=holiday_table_name, \n",
    "                                       precip_table_name=precip_table_name)\n",
    "\n",
    "        input_columns_str = str(' ').join(feature_df.columns).replace('\\\"', \"\")\n",
    "\n",
    "        feature_df = feature_df.select(F.array_agg(F.array_construct(F.col('*'))).alias('input_data'), \n",
    "                                       F.lit(station).alias('station_id'),\n",
    "                                       F.lit(input_columns_str).alias('input_column_names'),\n",
    "                                       F.lit(target_column).alias('target_column'))  \n",
    "\n",
    "        station_feature_view_name = feature_view_name.replace('<station_id>', station)\n",
    "        feature_df.createOrReplaceView(station_feature_view_name)\n",
    "        feature_view_names.append(station_feature_view_name)\n",
    "\n",
    "    return feature_view_names\n",
    "\n",
    "\n",
    "def train_predict_feature_views(session, station_train_pred_udf_name, feature_view_names, pred_table_name) -> str:\n",
    "    from snowflake.snowpark import functions as F\n",
    "    import pandas as pd\n",
    "    import ast\n",
    "    \n",
    "    cutpoint=365\n",
    "    max_epochs=1000\n",
    "    \n",
    "    for view in feature_view_names:\n",
    "        feature_df = session.table(view)\n",
    "        output_df = feature_df.select(F.call_udf(station_train_pred_udf_name, \n",
    "                                                 'INPUT_DATA', \n",
    "                                                 'INPUT_COLUMN_NAMES', \n",
    "                                                 'TARGET_COLUMN', \n",
    "                                                 F.lit(cutpoint), \n",
    "                                                 F.lit(max_epochs))).collect()\n",
    "\n",
    "        df = pd.DataFrame(data = ast.literal_eval(output_df[0][0])[0], \n",
    "                      columns = ast.literal_eval(output_df[0][0])[1])\n",
    "\n",
    "        df['DATE'] = pd.to_datetime(df['DATE']).dt.date\n",
    "        df['STATION_ID'] = feature_df.select('STATION_ID').collect()[0][0]\n",
    "\n",
    "        output_df = session.createDataFrame(df).write.saveAsTable(pred_table_name)\n",
    "    \n",
    "    return pred_table_name"
   ]
  },
  {
   "cell_type": "code",
   "execution_count": null,
   "metadata": {},
   "outputs": [],
   "source": [
    "#vectorize: eval_df = eval_df.groupBy('STATION_ID')\\\n",
    "#                  .agg(F.array_agg(F.array_construct(F.col('COUNT'), F.col('PRED'))).alias('INPUT_DATA'))\\\n",
    "#                  #.filter(F.col('STATION_ID') == F.lit('426'))"
   ]
  }
 ],
 "metadata": {
  "authors": [
   {
    "name": "cforbe"
   }
  ],
  "kernelspec": {
   "display_name": "Python 3 (ipykernel)",
   "language": "python",
   "name": "python3"
  },
  "language_info": {
   "codemirror_mode": {
    "name": "ipython",
    "version": 3
   },
   "file_extension": ".py",
   "mimetype": "text/x-python",
   "name": "python",
   "nbconvert_exporter": "python",
   "pygments_lexer": "ipython3",
   "version": "3.8.11"
  },
  "msauthor": "trbye"
 },
 "nbformat": 4,
 "nbformat_minor": 4
}
