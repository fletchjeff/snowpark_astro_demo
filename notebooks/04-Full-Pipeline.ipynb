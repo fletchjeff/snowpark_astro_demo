{
 "cells": [
  {
   "cell_type": "markdown",
   "metadata": {},
   "source": [
    "# Citibike ML\n",
    "In this example we use the [Citibike dataset](https://ride.citibikenyc.com/system-data). Citibike is a bicycle sharing system in New York City. Everyday users choose from 20,000 bicycles at 1300 stations around New York City.\n",
    "\n",
    "To ensure customer satisfaction Citibike needs to predict how many bicycles will be needed at each station. Maintenance teams from Citibike will check each station and repair or replace bicycles. Additionally, the team will relocate bicycles between stations based on predicted demand. The business needs to be able to run reports of how many bicycles will be needed at a given station on a given day."
   ]
  },
  {
   "cell_type": "markdown",
   "metadata": {},
   "source": [
    "## End-to-End Pipeline\n",
    "In this section of the demo, we consolidate all previous steps for a full, end-to-end pipeline for incremental ingest, feature engineering, training, prediction, and evaluation.\n",
    "\n",
    "This will be integrated into **our company's orchestration framework** but showing it all in one place will allow our dev ops team to implement it. \n",
    "\n",
    "For this demo flow we will assume that the organization has the following **policies and processes** :   \n",
    "-**Dev Tools**: The ML engineer can develop in their tool of choice (ie. VS Code, IntelliJ, Pycharm, Eclipse, etc.).  Snowpark Python makes it possible to use any environment where they have a python kernel.  For the sake of a demo we will use Jupyter.  \n",
    "-**Data Governance**: To preserve customer privacy no data can be stored locally.  The ingest system may store data temporarily but it must be assumed that, in production, the ingest system will not preserve intermediate data products between runs. Snowpark Python allows the user to push-down all operations to Snowflake and bring the code to the data.   \n",
    "-**Automation**: Although the ML engineer can use any IDE or notebooks for development purposes the final product must be python code at the end of the work stream.  Well-documented, modularized code is necessary for good ML operations and to interface with the company's CI/CD and orchestration tools.  \n",
    "-**Compliance**: Any ML models must be traceable back to the original data set used for training.  The business needs to be able to easily remove specific user data from training datasets and retrain models. "
   ]
  },
  {
   "cell_type": "markdown",
   "metadata": {},
   "source": [
    "Input: Set of python functions from the Data Engineer, Data Scientist, and ML Engineer.  \n",
    "Output: N/A"
   ]
  },
  {
   "cell_type": "markdown",
   "metadata": {},
   "source": [
    "### 1. Load  credentials and connect to Snowflake"
   ]
  },
  {
   "cell_type": "code",
   "execution_count": 4,
   "metadata": {},
   "outputs": [
    {
     "name": "stdout",
     "output_type": "stream",
     "text": [
      "Dockerfile\t       dags\t\t\t    packages.txt\r\n",
      "README.md\t       dependencies\t\t    plugins\r\n",
      "airflow_settings.yaml  docker-compose.override.yml  requirements.txt\r\n",
      "citibike_ml\t       include\t\t\t    weather.csv\r\n",
      "conda-env.yml\t       k8s_yaml_files\t\t    xray\r\n",
      "creds.json\t       notebooks\r\n"
     ]
    }
   ],
   "source": [
    "!ls /code"
   ]
  },
  {
   "cell_type": "code",
   "execution_count": 5,
   "metadata": {},
   "outputs": [],
   "source": [
    "import snowflake.snowpark as snp\n",
    "\n",
    "from datetime import datetime\n",
    "import json\n",
    "import getpass\n",
    "import uuid\n",
    "\n",
    "with open('/code/creds.json') as f:\n",
    "    data = json.load(f)\n",
    "    connection_parameters = {\n",
    "      'account': data['account'],\n",
    "      'user': data['username'],\n",
    "      'password': data['password'], #getpass.getpass(),\n",
    "      'role': data['role'],\n",
    "      'warehouse': data['warehouse']}\n",
    "\n",
    "session = snp.Session.builder.configs(connection_parameters).create()"
   ]
  },
  {
   "cell_type": "markdown",
   "metadata": {},
   "source": [
    "### 1. Setup Pipeline"
   ]
  },
  {
   "cell_type": "code",
   "execution_count": 8,
   "metadata": {},
   "outputs": [],
   "source": [
    "project_db_name = 'CITIBIKEML_JF'\n",
    "project_schema_name = 'DEMO'\n",
    "project_db_schema = str(project_db_name)+'.'+str(project_schema_name)\n",
    "\n",
    "top_n = 2\n",
    "\n",
    "model_id = str(uuid.uuid1()).replace('-', '_')\n",
    "\n",
    "download_base_url = 'https://s3.amazonaws.com/tripdata/'\n",
    "\n",
    "load_table_name = str(project_db_schema)+'.'+'RAW_'\n",
    "trips_table_name = str(project_db_schema)+'.'+'TRIPS'\n",
    "holiday_table_name = str(project_db_schema)+'.'+'HOLIDAYS'\n",
    "precip_table_name = str(project_db_schema)+'.'+'WEATHER'\n",
    "model_stage_name = str(project_db_schema)+'.'+'model_stage'\n",
    "clone_table_name = str(project_db_schema)+'.'+'CLONE_'+str(model_id)\n",
    "feature_view_name = str(project_db_schema)+'.'+'STATION_<station_id>_VIEW_'+str(model_id)\n",
    "pred_table_name = str(project_db_schema)+'.'+'PREDICTIONS_'+str(model_id)\n",
    "eval_table_name = str(project_db_schema)+'.'+'EVAL_'+str(model_id)\n",
    "load_stage_name = 'load_stage'\n",
    "\n",
    "_ = session.sql('USE DATABASE ' + str(project_db_name)).collect()\n",
    "_ = session.sql('USE SCHEMA ' + str(project_schema_name)).collect()\n",
    "\n",
    "_ = session.sql('CREATE STAGE IF NOT EXISTS ' + str(model_stage_name)).collect()\n",
    "_ = session.sql('CREATE OR REPLACE TEMPORARY STAGE ' + str(load_stage_name)).collect()\n",
    "\n",
    "_ = session.sql('CREATE OR REPLACE TABLE '+str(clone_table_name)+\" CLONE \"+str(trips_table_name)).collect()\n",
    "_ = session.sql('CREATE TAG IF NOT EXISTS model_id_tag').collect()\n",
    "_ = session.sql(\"ALTER TABLE \"+str(clone_table_name)+\" SET TAG model_id_tag = '\"+str(model_id)+\"'\").collect()\n",
    "_ = session.sql('DROP TABLE IF EXISTS '+pred_table_name).collect()\n",
    "_ = session.sql('DROP TABLE IF EXISTS '+eval_table_name).collect()\n"
   ]
  },
  {
   "cell_type": "code",
   "execution_count": 14,
   "metadata": {},
   "outputs": [],
   "source": [
    "import sys\n",
    "sys.path.append(\"/code/dags/\")"
   ]
  },
  {
   "cell_type": "code",
   "execution_count": 15,
   "metadata": {},
   "outputs": [
    {
     "data": {
      "text/plain": [
       "['/code/notebooks',\n",
       " '/usr/lib/python38.zip',\n",
       " '/usr/lib/python3.8',\n",
       " '/usr/lib/python3.8/lib-dynload',\n",
       " '',\n",
       " '/usr/local/lib/python3.8/dist-packages',\n",
       " '/usr/lib/python3/dist-packages',\n",
       " '/code/dags/']"
      ]
     },
     "execution_count": 15,
     "metadata": {},
     "output_type": "execute_result"
    }
   ],
   "source": [
    "sys.path"
   ]
  },
  {
   "cell_type": "code",
   "execution_count": 16,
   "metadata": {},
   "outputs": [],
   "source": [
    "from citibike_ml.ingest import incremental_elt\n",
    "from citibike_ml.mlops_pipeline import deploy_pred_train_udf\n",
    "from citibike_ml.mlops_pipeline import materialize_holiday_weather\n",
    "from citibike_ml.mlops_pipeline import generate_feature_views\n",
    "from citibike_ml.mlops_pipeline import train_predict_feature_views\n",
    "from citibike_ml.model_eval import deploy_eval_udf\n",
    "from citibike_ml.model_eval import evaluate_station_predictions"
   ]
  },
  {
   "cell_type": "markdown",
   "metadata": {},
   "source": [
    "Incremental ELT"
   ]
  },
  {
   "cell_type": "code",
   "execution_count": 17,
   "metadata": {},
   "outputs": [
    {
     "name": "stdout",
     "output_type": "stream",
     "text": [
      "Downloading file https://s3.amazonaws.com/tripdata/201402-citibike-tripdata.zip\n",
      "Gzipping file 2014-02 - Citi Bike trip data.csv\n",
      "Putting file 201402-citibike-tripdata.gz to stage load_stage\n",
      "Downloading file https://s3.amazonaws.com/tripdata/202102-citibike-tripdata.csv.zip\n",
      "Gzipping file 202102-citibike-tripdata.csv\n",
      "Putting file 202102-citibike-tripdata.csv.gz to stage load_stage\n",
      "CPU times: user 12 s, sys: 559 ms, total: 12.6 s\n",
      "Wall time: 1min 27s\n"
     ]
    }
   ],
   "source": [
    "%%time \n",
    "file_name_end2 = '202102-citibike-tripdata.csv.zip'\n",
    "file_name_end1 = '201402-citibike-tripdata.zip'\n",
    "\n",
    "files_to_download = [file_name_end1, file_name_end2]\n",
    "\n",
    "trips_table_name = incremental_elt(session=session, \n",
    "                                   load_stage_name=load_stage_name, \n",
    "                                   files_to_download=files_to_download, \n",
    "                                   download_base_url=download_base_url, \n",
    "                                   load_table_name=load_table_name, \n",
    "                                   trips_table_name=trips_table_name)"
   ]
  },
  {
   "cell_type": "code",
   "execution_count": null,
   "metadata": {},
   "outputs": [],
   "source": [
    "%%time \n",
    "model_udf_name = deploy_pred_train_udf(session=session, \n",
    "                                       function_name='station_train_predict_func', \n",
    "                                       model_stage_name=model_stage_name)"
   ]
  },
  {
   "cell_type": "code",
   "execution_count": null,
   "metadata": {},
   "outputs": [],
   "source": [
    "%%time \n",
    "holiday_table_name, precip_table_name = materialize_holiday_weather(session=session, \n",
    "                                                                   trips_table_name=trips_table_name, \n",
    "                                                                   holiday_table_name=holiday_table_name, \n",
    "                                                                   precip_table_name=precip_table_name)"
   ]
  },
  {
   "cell_type": "code",
   "execution_count": null,
   "metadata": {},
   "outputs": [],
   "source": [
    "%%time \n",
    "feature_view_names = generate_feature_views(session=session, \n",
    "                                            clone_table_name=clone_table_name, \n",
    "                                            feature_view_name=feature_view_name, \n",
    "                                            holiday_table_name=holiday_table_name, \n",
    "                                            precip_table_name=holiday_table_name,\n",
    "                                            target_column='COUNT', \n",
    "                                            top_n=top_n)"
   ]
  },
  {
   "cell_type": "code",
   "execution_count": null,
   "metadata": {},
   "outputs": [],
   "source": [
    "%%time \n",
    "pred_table_name = train_predict_feature_views(session=session, \n",
    "                                              station_train_pred_udf_name=model_udf_name, \n",
    "                                              feature_view_names=feature_view_names, \n",
    "                                              pred_table_name=pred_table_name)"
   ]
  },
  {
   "cell_type": "code",
   "execution_count": null,
   "metadata": {},
   "outputs": [],
   "source": [
    "%%time\n",
    "eval_model_udf_name = deploy_eval_udf(session=session, \n",
    "                                      function_name='eval_model_output_func', \n",
    "                                      model_stage_name=model_stage_name)"
   ]
  },
  {
   "cell_type": "code",
   "execution_count": null,
   "metadata": {},
   "outputs": [],
   "source": [
    "%%time\n",
    "eval_table_name = evaluate_station_predictions(session=session, \n",
    "                                               pred_table_name=pred_table_name, \n",
    "                                               eval_model_udf_name=eval_model_udf_name, \n",
    "                                               eval_table_name=eval_table_name)"
   ]
  },
  {
   "cell_type": "code",
   "execution_count": null,
   "metadata": {},
   "outputs": [],
   "source": [
    "session.table(feature_view_names[0]).show()"
   ]
  },
  {
   "cell_type": "code",
   "execution_count": null,
   "metadata": {},
   "outputs": [],
   "source": [
    "session.table(pred_table_name).show()"
   ]
  },
  {
   "cell_type": "code",
   "execution_count": null,
   "metadata": {},
   "outputs": [],
   "source": [
    "session.table(eval_table_name).show()"
   ]
  }
 ],
 "metadata": {
  "authors": [
   {
    "name": "cforbe"
   }
  ],
  "kernelspec": {
   "display_name": "Python 3 (ipykernel)",
   "language": "python",
   "name": "python3"
  },
  "language_info": {
   "codemirror_mode": {
    "name": "ipython",
    "version": 3
   },
   "file_extension": ".py",
   "mimetype": "text/x-python",
   "name": "python",
   "nbconvert_exporter": "python",
   "pygments_lexer": "ipython3",
   "version": "3.8.10"
  },
  "msauthor": "trbye"
 },
 "nbformat": 4,
 "nbformat_minor": 4
}
