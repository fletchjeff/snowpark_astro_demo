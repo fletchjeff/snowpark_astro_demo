{
 "cells": [
  {
   "cell_type": "markdown",
   "metadata": {},
   "source": [
    "# Bulk Load Data"
   ]
  },
  {
   "cell_type": "code",
   "execution_count": null,
   "metadata": {},
   "outputs": [],
   "source": [
    "import snowflake.snowpark as snp\n",
    "import json\n",
    "import getpass\n",
    "\n",
    "\n",
    "with open('creds.json') as f:\n",
    "    data = json.load(f)\n",
    "    connection_parameters = {\n",
    "      'account': data['account'],\n",
    "      'user': data['username'],\n",
    "      'password': data['password'], #getpass.getpass(),\n",
    "      'role': data['role'],\n",
    "      'warehouse': data['warehouse']}\n",
    "\n",
    "session = snp.Session.builder.configs(connection_parameters).create()"
   ]
  },
  {
   "cell_type": "code",
   "execution_count": null,
   "metadata": {},
   "outputs": [],
   "source": [
    "%%writefile citibike_ml/bulk_load.py\n",
    "\n",
    "def bulk_load_external(session):\n",
    "    from citibike_ml import elt as cbelt\n",
    "\n",
    "    import snowflake.snowpark as snp\n",
    "\n",
    "    import pandas as pd\n",
    "    from datetime import datetime\n",
    "    import os\n",
    "    import uuid \n",
    "\n",
    "    start = datetime.now()\n",
    "    print(\"Start Time =\", start.strftime(\"%H:%M:%S\"))\n",
    "\n",
    "    download_base_url = 'https://s3.amazonaws.com/tripdata/'\n",
    "\n",
    "    project_db_name = 'CITIBIKEML'\n",
    "    project_schema_name = 'DEMO'\n",
    "    project_db_schema = str(project_db_name)+'.'+str(project_schema_name)\n",
    "\n",
    "    load_table_name = str(project_db_schema)+'.'+'RAW_'\n",
    "    trips_table_name = str(project_db_schema)+'.'+'TRIPS'\n",
    "\n",
    "    _ = session.sql('CREATE OR REPLACE DATABASE '+str(project_db_name)).collect()\n",
    "    _ = session.sql('USE DATABASE '+str(project_db_name)).collect()\n",
    "\n",
    "    _ = session.sql('CREATE SCHEMA '+str(project_db_schema)).collect()\n",
    "    _ = session.sql('USE SCHEMA '+str(project_db_schema)).collect()\n",
    "\n",
    "    stage_id = str(uuid.uuid1()).replace('-', '_')\n",
    "    stage_name = 'load_stage_'+str(stage_id)\n",
    "\n",
    "    session.sql('CREATE OR REPLACE TEMPORARY STAGE '+str(stage_name)).collect()\n",
    "\n",
    "    #For files like 201306-citibike-tripdata.zip\n",
    "    date_range1 = pd.period_range(start=datetime.strptime(\"201306\", \"%Y%m\"), \n",
    "                                 end=datetime.strptime(\"201612\", \"%Y%m\"), \n",
    "                                 freq='M').strftime(\"%Y%m\")\n",
    "    file_name_end1 = '-citibike-tripdata.zip'\n",
    "    files_to_extract = [date+file_name_end1 for date in date_range1.to_list()]\n",
    "\n",
    "    #For files like 201701-citibike-tripdata.csv.zip\n",
    "    date_range2 = pd.period_range(start=datetime.strptime(\"201701\", \"%Y%m\"), \n",
    "                                 end=datetime.strptime(\"202002\", \"%Y%m\"), \n",
    "                                 freq='M').strftime(\"%Y%m\")\n",
    "\n",
    "    file_name_end2 = '-citibike-tripdata.csv.zip'\n",
    "    files_to_extract = files_to_extract + [date+file_name_end2 for date in date_range2.to_list()]\n",
    "\n",
    "    stage_name, files_to_load = cbelt.extract_trips_to_stage(session, \n",
    "                                                             files_to_extract, \n",
    "                                                             download_base_url, \n",
    "                                                             stage_name)\n",
    "\n",
    "    stage_table_names = cbelt.load_trips_to_raw(session, files_to_load, stage_name, load_table_name)\n",
    "\n",
    "    trips_table_name = cbelt.transform_trips(session, stage_table_names, trips_table_name)\n",
    "\n",
    "    session.close()\n",
    "\n",
    "    end = datetime.now()\n",
    "    print(\"End Time =\", end.strftime(\"%H:%M:%S\"))\n",
    "\n",
    "    run_time = end-start\n",
    "    print(\"Total Run Time (min) =\", run_time.total_seconds()/60)"
   ]
  },
  {
   "cell_type": "code",
   "execution_count": null,
   "metadata": {},
   "outputs": [],
   "source": [
    "from citibike_ml.bulk_load import bulk_load_external\n",
    "bulk_load_external(session)\n"
   ]
  },
  {
   "cell_type": "code",
   "execution_count": null,
   "metadata": {},
   "outputs": [],
   "source": []
  }
 ],
 "metadata": {
  "authors": [
   {
    "name": "cforbe"
   }
  ],
  "kernelspec": {
   "display_name": "Python 3 (ipykernel)",
   "language": "python",
   "name": "python3"
  },
  "language_info": {
   "codemirror_mode": {
    "name": "ipython",
    "version": 3
   },
   "file_extension": ".py",
   "mimetype": "text/x-python",
   "name": "python",
   "nbconvert_exporter": "python",
   "pygments_lexer": "ipython3",
   "version": "3.8.11"
  },
  "msauthor": "trbye"
 },
 "nbformat": 4,
 "nbformat_minor": 4
}
